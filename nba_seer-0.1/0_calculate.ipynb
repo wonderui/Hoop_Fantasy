{
 "cells": [
  {
   "cell_type": "code",
   "execution_count": 1,
   "metadata": {},
   "outputs": [
    {
     "name": "stdout",
     "output_type": "stream",
     "text": [
      "modules imported\n",
      "functions defined\n"
     ]
    }
   ],
   "source": [
    "# import modules ----------------------\n",
    "\n",
    "import nba_py\n",
    "import nba_py.game\n",
    "import nba_py.player\n",
    "import nba_py.team\n",
    "\n",
    "import pandas as pd\n",
    "import numpy as np\n",
    "import pytz\n",
    "\n",
    "import datetime\n",
    "# import time\n",
    "# import functools\n",
    "\n",
    "# import pymysql\n",
    "from sqlalchemy import create_engine\n",
    "\n",
    "from password import hoop_pwd\n",
    "pwd = hoop_pwd.password\n",
    "\n",
    "old_settings = np.seterr(all='print')\n",
    "np.geterr()\n",
    "\n",
    "from nba_seer import *"
   ]
  },
  {
   "cell_type": "code",
   "execution_count": 2,
   "metadata": {},
   "outputs": [
    {
     "name": "stdout",
     "output_type": "stream",
     "text": [
      "184688 player stats loaded.\n"
     ]
    }
   ],
   "source": [
    "# create sql conn and load game stats logs ----------------------\n",
    "\n",
    "conn = create_engine('mysql+pymysql://root:%s@118.190.202.87:3306/nba_stats' % pwd)\n",
    "game_stats_logs = pd.read_sql_table('game_stats_logs', conn)\n",
    "game_stats_logs = game_stats_logs[game_stats_logs['GAME_TYPE'] != 'all_star']\n",
    "\n",
    "print(str(len(game_stats_logs)) + ' player stats loaded.')"
   ]
  },
  {
   "cell_type": "code",
   "execution_count": 3,
   "metadata": {},
   "outputs": [
    {
     "name": "stdout",
     "output_type": "stream",
     "text": [
      "date set\n"
     ]
    }
   ],
   "source": [
    "# set date ----------------------\n",
    "\n",
    "ustz = pytz.timezone('America/New_York')\n",
    "us_time = datetime.datetime.now(ustz)\n",
    "today = us_time.date()\n",
    "tomorrow = today + datetime.timedelta(days=1)\n",
    "someday = datetime.date(2017, 10, 6)\n",
    "\n",
    "print('date set')"
   ]
  },
  {
   "cell_type": "code",
   "execution_count": 4,
   "metadata": {},
   "outputs": [
    {
     "name": "stdout",
     "output_type": "stream",
     "text": [
      "players list loaded\n"
     ]
    }
   ],
   "source": [
    "# load player list ----------------------\n",
    "\n",
    "all_players = nba_py.player.PlayerList(season='2017-18').info()\n",
    "\n",
    "print('players list loaded')"
   ]
  },
  {
   "cell_type": "markdown",
   "metadata": {},
   "source": [
    "### execute"
   ]
  },
  {
   "cell_type": "code",
   "execution_count": 5,
   "metadata": {},
   "outputs": [
    {
     "data": {
      "text/html": [
       "<div>\n",
       "<style>\n",
       "    .dataframe thead tr:only-child th {\n",
       "        text-align: right;\n",
       "    }\n",
       "\n",
       "    .dataframe thead th {\n",
       "        text-align: left;\n",
       "    }\n",
       "\n",
       "    .dataframe tbody tr th {\n",
       "        vertical-align: top;\n",
       "    }\n",
       "</style>\n",
       "<table border=\"1\" class=\"dataframe\">\n",
       "  <thead>\n",
       "    <tr style=\"text-align: right;\">\n",
       "      <th></th>\n",
       "      <th>GAME_ID</th>\n",
       "      <th>HOME_TEAM_ID</th>\n",
       "      <th>VISITOR_TEAM_ID</th>\n",
       "    </tr>\n",
       "  </thead>\n",
       "  <tbody>\n",
       "    <tr>\n",
       "      <th>0</th>\n",
       "      <td>0011700065</td>\n",
       "      <td>1610612737</td>\n",
       "      <td>1610612742</td>\n",
       "    </tr>\n",
       "    <tr>\n",
       "      <th>1</th>\n",
       "      <td>0011700066</td>\n",
       "      <td>1610612746</td>\n",
       "      <td>1610612758</td>\n",
       "    </tr>\n",
       "  </tbody>\n",
       "</table>\n",
       "</div>"
      ],
      "text/plain": [
       "      GAME_ID  HOME_TEAM_ID  VISITOR_TEAM_ID\n",
       "0  0011700065    1610612737       1610612742\n",
       "1  0011700066    1610612746       1610612758"
      ]
     },
     "execution_count": 5,
     "metadata": {},
     "output_type": "execute_result"
    }
   ],
   "source": [
    "games = get_games(today)\n",
    "games"
   ]
  },
  {
   "cell_type": "code",
   "execution_count": 6,
   "metadata": {},
   "outputs": [
    {
     "data": {
      "text/plain": [
       "PERSON_ID             1628385\n",
       "TEAM_ID            1610612758\n",
       "Location                 AWAY\n",
       "GAME_ID            0011700066\n",
       "Against_Team_ID    1610612746\n",
       "Name: 62, dtype: object"
      ]
     },
     "execution_count": 6,
     "metadata": {},
     "output_type": "execute_result"
    }
   ],
   "source": [
    "players = get_players(games, all_players)\n",
    "players.loc[62]"
   ]
  },
  {
   "cell_type": "code",
   "execution_count": 7,
   "metadata": {},
   "outputs": [
    {
     "name": "stdout",
     "output_type": "stream",
     "text": [
      "5games days complete!\n",
      "days rest complete!\n",
      "ma20 complete!\n",
      "ma10 complete!\n",
      "ma5 complete!\n",
      "min20 complete!\n",
      "min10 complete!\n",
      "min5 complete!\n",
      "min_cov_20 complete!\n",
      "sco_cov_20 complete!\n",
      "sco cov less than 0 droped!\n",
      "all done!\n"
     ]
    }
   ],
   "source": [
    "players = get_exp_sco(players, game_stats_logs)"
   ]
  },
  {
   "cell_type": "code",
   "execution_count": 14,
   "metadata": {},
   "outputs": [
    {
     "data": {
      "text/html": [
       "<div>\n",
       "<style>\n",
       "    .dataframe thead tr:only-child th {\n",
       "        text-align: right;\n",
       "    }\n",
       "\n",
       "    .dataframe thead th {\n",
       "        text-align: left;\n",
       "    }\n",
       "\n",
       "    .dataframe tbody tr th {\n",
       "        vertical-align: top;\n",
       "    }\n",
       "</style>\n",
       "<table border=\"1\" class=\"dataframe\">\n",
       "  <thead>\n",
       "    <tr style=\"text-align: right;\">\n",
       "      <th></th>\n",
       "      <th>PERSON_ID</th>\n",
       "      <th>TEAM_ID</th>\n",
       "      <th>Location</th>\n",
       "      <th>GAME_ID</th>\n",
       "      <th>Against_Team_ID</th>\n",
       "      <th>5_g_d</th>\n",
       "      <th>d_rest</th>\n",
       "      <th>MA_20</th>\n",
       "      <th>MA_10</th>\n",
       "      <th>MA_5</th>\n",
       "      <th>MIN_20</th>\n",
       "      <th>MIN_10</th>\n",
       "      <th>MIN_5</th>\n",
       "      <th>MIN_COV_20</th>\n",
       "      <th>SCO_COV_20</th>\n",
       "      <th>EXP_SCO</th>\n",
       "    </tr>\n",
       "  </thead>\n",
       "  <tbody>\n",
       "  </tbody>\n",
       "</table>\n",
       "</div>"
      ],
      "text/plain": [
       "Empty DataFrame\n",
       "Columns: [PERSON_ID, TEAM_ID, Location, GAME_ID, Against_Team_ID, 5_g_d, d_rest, MA_20, MA_10, MA_5, MIN_20, MIN_10, MIN_5, MIN_COV_20, SCO_COV_20, EXP_SCO]\n",
       "Index: []"
      ]
     },
     "execution_count": 14,
     "metadata": {},
     "output_type": "execute_result"
    }
   ],
   "source": [
    "players[players['PERSON_ID'] == 1628385]"
   ]
  },
  {
   "cell_type": "code",
   "execution_count": null,
   "metadata": {
    "collapsed": true
   },
   "outputs": [],
   "source": []
  },
  {
   "cell_type": "code",
   "execution_count": null,
   "metadata": {
    "collapsed": true
   },
   "outputs": [],
   "source": []
  },
  {
   "cell_type": "code",
   "execution_count": null,
   "metadata": {
    "collapsed": true
   },
   "outputs": [],
   "source": []
  },
  {
   "cell_type": "code",
   "execution_count": 9,
   "metadata": {},
   "outputs": [
    {
     "data": {
      "text/html": [
       "<div>\n",
       "<style>\n",
       "    .dataframe thead tr:only-child th {\n",
       "        text-align: right;\n",
       "    }\n",
       "\n",
       "    .dataframe thead th {\n",
       "        text-align: left;\n",
       "    }\n",
       "\n",
       "    .dataframe tbody tr th {\n",
       "        vertical-align: top;\n",
       "    }\n",
       "</style>\n",
       "<table border=\"1\" class=\"dataframe\">\n",
       "  <thead>\n",
       "    <tr style=\"text-align: right;\">\n",
       "      <th></th>\n",
       "      <th>GAME_ID</th>\n",
       "      <th>TEAM_ID</th>\n",
       "      <th>TEAM_ABBREVIATION</th>\n",
       "      <th>TEAM_CITY</th>\n",
       "      <th>PLAYER_ID</th>\n",
       "      <th>PLAYER_NAME</th>\n",
       "      <th>START_POSITION</th>\n",
       "      <th>COMMENT</th>\n",
       "      <th>MIN</th>\n",
       "      <th>FGM</th>\n",
       "      <th>...</th>\n",
       "      <th>PF</th>\n",
       "      <th>PTS</th>\n",
       "      <th>PLUS_MINUS</th>\n",
       "      <th>LOCATION</th>\n",
       "      <th>AGAINST_TEAM_ID</th>\n",
       "      <th>GAME_TYPE</th>\n",
       "      <th>GAME_DATE_EST</th>\n",
       "      <th>GAME_SEQUENCE</th>\n",
       "      <th>MINS</th>\n",
       "      <th>GAME_ID_O</th>\n",
       "    </tr>\n",
       "  </thead>\n",
       "  <tbody>\n",
       "    <tr>\n",
       "      <th>182770</th>\n",
       "      <td>0011700010</td>\n",
       "      <td>1610612758</td>\n",
       "      <td>SAC</td>\n",
       "      <td>Sacramento</td>\n",
       "      <td>1628385</td>\n",
       "      <td>Harry Giles</td>\n",
       "      <td></td>\n",
       "      <td>DNP - Coach's Decision</td>\n",
       "      <td>None</td>\n",
       "      <td>NaN</td>\n",
       "      <td>...</td>\n",
       "      <td>NaN</td>\n",
       "      <td>NaN</td>\n",
       "      <td>NaN</td>\n",
       "      <td>HOME</td>\n",
       "      <td>1610612759</td>\n",
       "      <td>pre_season</td>\n",
       "      <td>2017-10-02T00:00:00</td>\n",
       "      <td>6</td>\n",
       "      <td>NaN</td>\n",
       "      <td>1700100010</td>\n",
       "    </tr>\n",
       "    <tr>\n",
       "      <th>183726</th>\n",
       "      <td>0011700036</td>\n",
       "      <td>1610612758</td>\n",
       "      <td>SAC</td>\n",
       "      <td>Sacramento</td>\n",
       "      <td>1628385</td>\n",
       "      <td>Harry Giles</td>\n",
       "      <td></td>\n",
       "      <td>DNP - Coach's Decision</td>\n",
       "      <td>None</td>\n",
       "      <td>NaN</td>\n",
       "      <td>...</td>\n",
       "      <td>NaN</td>\n",
       "      <td>NaN</td>\n",
       "      <td>NaN</td>\n",
       "      <td>AWAY</td>\n",
       "      <td>1610612759</td>\n",
       "      <td>pre_season</td>\n",
       "      <td>2017-10-06T00:00:00</td>\n",
       "      <td>7</td>\n",
       "      <td>NaN</td>\n",
       "      <td>1700100036</td>\n",
       "    </tr>\n",
       "    <tr>\n",
       "      <th>184083</th>\n",
       "      <td>0011700043</td>\n",
       "      <td>1610612758</td>\n",
       "      <td>SAC</td>\n",
       "      <td>Sacramento</td>\n",
       "      <td>1628385</td>\n",
       "      <td>Harry Giles</td>\n",
       "      <td></td>\n",
       "      <td>DNP - Coach's Decision</td>\n",
       "      <td>None</td>\n",
       "      <td>NaN</td>\n",
       "      <td>...</td>\n",
       "      <td>NaN</td>\n",
       "      <td>NaN</td>\n",
       "      <td>NaN</td>\n",
       "      <td>AWAY</td>\n",
       "      <td>1610612747</td>\n",
       "      <td>pre_season</td>\n",
       "      <td>2017-10-08T00:00:00</td>\n",
       "      <td>8</td>\n",
       "      <td>NaN</td>\n",
       "      <td>1700100043</td>\n",
       "    </tr>\n",
       "    <tr>\n",
       "      <th>184368</th>\n",
       "      <td>0011700053</td>\n",
       "      <td>1610612758</td>\n",
       "      <td>SAC</td>\n",
       "      <td>Sacramento</td>\n",
       "      <td>1628385</td>\n",
       "      <td>Harry Giles</td>\n",
       "      <td></td>\n",
       "      <td>DND - Injury/Illness</td>\n",
       "      <td>None</td>\n",
       "      <td>NaN</td>\n",
       "      <td>...</td>\n",
       "      <td>NaN</td>\n",
       "      <td>NaN</td>\n",
       "      <td>NaN</td>\n",
       "      <td>HOME</td>\n",
       "      <td>1610612757</td>\n",
       "      <td>pre_season</td>\n",
       "      <td>2017-10-09T00:00:00</td>\n",
       "      <td>8</td>\n",
       "      <td>NaN</td>\n",
       "      <td>1700100053</td>\n",
       "    </tr>\n",
       "  </tbody>\n",
       "</table>\n",
       "<p>4 rows × 35 columns</p>\n",
       "</div>"
      ],
      "text/plain": [
       "           GAME_ID     TEAM_ID TEAM_ABBREVIATION   TEAM_CITY  PLAYER_ID  \\\n",
       "182770  0011700010  1610612758               SAC  Sacramento    1628385   \n",
       "183726  0011700036  1610612758               SAC  Sacramento    1628385   \n",
       "184083  0011700043  1610612758               SAC  Sacramento    1628385   \n",
       "184368  0011700053  1610612758               SAC  Sacramento    1628385   \n",
       "\n",
       "        PLAYER_NAME START_POSITION                                   COMMENT  \\\n",
       "182770  Harry Giles                 DNP - Coach's Decision                     \n",
       "183726  Harry Giles                 DNP - Coach's Decision                     \n",
       "184083  Harry Giles                 DNP - Coach's Decision                     \n",
       "184368  Harry Giles                 DND - Injury/Illness                       \n",
       "\n",
       "         MIN  FGM     ...      PF  PTS  PLUS_MINUS  LOCATION  AGAINST_TEAM_ID  \\\n",
       "182770  None  NaN     ...     NaN  NaN         NaN      HOME       1610612759   \n",
       "183726  None  NaN     ...     NaN  NaN         NaN      AWAY       1610612759   \n",
       "184083  None  NaN     ...     NaN  NaN         NaN      AWAY       1610612747   \n",
       "184368  None  NaN     ...     NaN  NaN         NaN      HOME       1610612757   \n",
       "\n",
       "         GAME_TYPE        GAME_DATE_EST  GAME_SEQUENCE  MINS   GAME_ID_O  \n",
       "182770  pre_season  2017-10-02T00:00:00              6   NaN  1700100010  \n",
       "183726  pre_season  2017-10-06T00:00:00              7   NaN  1700100036  \n",
       "184083  pre_season  2017-10-08T00:00:00              8   NaN  1700100043  \n",
       "184368  pre_season  2017-10-09T00:00:00              8   NaN  1700100053  \n",
       "\n",
       "[4 rows x 35 columns]"
      ]
     },
     "execution_count": 9,
     "metadata": {},
     "output_type": "execute_result"
    }
   ],
   "source": [
    "player_stats_logs = game_stats_logs[game_stats_logs['PLAYER_ID'] == 1628385]\n",
    "player_stats_logs"
   ]
  },
  {
   "cell_type": "code",
   "execution_count": 10,
   "metadata": {},
   "outputs": [
    {
     "data": {
      "text/html": [
       "<div>\n",
       "<style>\n",
       "    .dataframe thead tr:only-child th {\n",
       "        text-align: right;\n",
       "    }\n",
       "\n",
       "    .dataframe thead th {\n",
       "        text-align: left;\n",
       "    }\n",
       "\n",
       "    .dataframe tbody tr th {\n",
       "        vertical-align: top;\n",
       "    }\n",
       "</style>\n",
       "<table border=\"1\" class=\"dataframe\">\n",
       "  <thead>\n",
       "    <tr style=\"text-align: right;\">\n",
       "      <th></th>\n",
       "      <th>GAME_ID</th>\n",
       "      <th>TEAM_ID</th>\n",
       "      <th>TEAM_ABBREVIATION</th>\n",
       "      <th>TEAM_CITY</th>\n",
       "      <th>PLAYER_ID</th>\n",
       "      <th>PLAYER_NAME</th>\n",
       "      <th>START_POSITION</th>\n",
       "      <th>COMMENT</th>\n",
       "      <th>MIN</th>\n",
       "      <th>FGM</th>\n",
       "      <th>...</th>\n",
       "      <th>PF</th>\n",
       "      <th>PTS</th>\n",
       "      <th>PLUS_MINUS</th>\n",
       "      <th>LOCATION</th>\n",
       "      <th>AGAINST_TEAM_ID</th>\n",
       "      <th>GAME_TYPE</th>\n",
       "      <th>GAME_DATE_EST</th>\n",
       "      <th>GAME_SEQUENCE</th>\n",
       "      <th>MINS</th>\n",
       "      <th>GAME_ID_O</th>\n",
       "    </tr>\n",
       "  </thead>\n",
       "  <tbody>\n",
       "    <tr>\n",
       "      <th>182770</th>\n",
       "      <td>0011700010</td>\n",
       "      <td>1610612758</td>\n",
       "      <td>SAC</td>\n",
       "      <td>Sacramento</td>\n",
       "      <td>1628385</td>\n",
       "      <td>Harry Giles</td>\n",
       "      <td></td>\n",
       "      <td>DNP - Coach's Decision</td>\n",
       "      <td>None</td>\n",
       "      <td>NaN</td>\n",
       "      <td>...</td>\n",
       "      <td>NaN</td>\n",
       "      <td>NaN</td>\n",
       "      <td>NaN</td>\n",
       "      <td>HOME</td>\n",
       "      <td>1610612759</td>\n",
       "      <td>pre_season</td>\n",
       "      <td>2017-10-02T00:00:00</td>\n",
       "      <td>6</td>\n",
       "      <td>NaN</td>\n",
       "      <td>1700100010</td>\n",
       "    </tr>\n",
       "    <tr>\n",
       "      <th>183726</th>\n",
       "      <td>0011700036</td>\n",
       "      <td>1610612758</td>\n",
       "      <td>SAC</td>\n",
       "      <td>Sacramento</td>\n",
       "      <td>1628385</td>\n",
       "      <td>Harry Giles</td>\n",
       "      <td></td>\n",
       "      <td>DNP - Coach's Decision</td>\n",
       "      <td>None</td>\n",
       "      <td>NaN</td>\n",
       "      <td>...</td>\n",
       "      <td>NaN</td>\n",
       "      <td>NaN</td>\n",
       "      <td>NaN</td>\n",
       "      <td>AWAY</td>\n",
       "      <td>1610612759</td>\n",
       "      <td>pre_season</td>\n",
       "      <td>2017-10-06T00:00:00</td>\n",
       "      <td>7</td>\n",
       "      <td>NaN</td>\n",
       "      <td>1700100036</td>\n",
       "    </tr>\n",
       "    <tr>\n",
       "      <th>184083</th>\n",
       "      <td>0011700043</td>\n",
       "      <td>1610612758</td>\n",
       "      <td>SAC</td>\n",
       "      <td>Sacramento</td>\n",
       "      <td>1628385</td>\n",
       "      <td>Harry Giles</td>\n",
       "      <td></td>\n",
       "      <td>DNP - Coach's Decision</td>\n",
       "      <td>None</td>\n",
       "      <td>NaN</td>\n",
       "      <td>...</td>\n",
       "      <td>NaN</td>\n",
       "      <td>NaN</td>\n",
       "      <td>NaN</td>\n",
       "      <td>AWAY</td>\n",
       "      <td>1610612747</td>\n",
       "      <td>pre_season</td>\n",
       "      <td>2017-10-08T00:00:00</td>\n",
       "      <td>8</td>\n",
       "      <td>NaN</td>\n",
       "      <td>1700100043</td>\n",
       "    </tr>\n",
       "    <tr>\n",
       "      <th>184368</th>\n",
       "      <td>0011700053</td>\n",
       "      <td>1610612758</td>\n",
       "      <td>SAC</td>\n",
       "      <td>Sacramento</td>\n",
       "      <td>1628385</td>\n",
       "      <td>Harry Giles</td>\n",
       "      <td></td>\n",
       "      <td>DND - Injury/Illness</td>\n",
       "      <td>None</td>\n",
       "      <td>NaN</td>\n",
       "      <td>...</td>\n",
       "      <td>NaN</td>\n",
       "      <td>NaN</td>\n",
       "      <td>NaN</td>\n",
       "      <td>HOME</td>\n",
       "      <td>1610612757</td>\n",
       "      <td>pre_season</td>\n",
       "      <td>2017-10-09T00:00:00</td>\n",
       "      <td>8</td>\n",
       "      <td>NaN</td>\n",
       "      <td>1700100053</td>\n",
       "    </tr>\n",
       "  </tbody>\n",
       "</table>\n",
       "<p>4 rows × 35 columns</p>\n",
       "</div>"
      ],
      "text/plain": [
       "           GAME_ID     TEAM_ID TEAM_ABBREVIATION   TEAM_CITY  PLAYER_ID  \\\n",
       "182770  0011700010  1610612758               SAC  Sacramento    1628385   \n",
       "183726  0011700036  1610612758               SAC  Sacramento    1628385   \n",
       "184083  0011700043  1610612758               SAC  Sacramento    1628385   \n",
       "184368  0011700053  1610612758               SAC  Sacramento    1628385   \n",
       "\n",
       "        PLAYER_NAME START_POSITION                                   COMMENT  \\\n",
       "182770  Harry Giles                 DNP - Coach's Decision                     \n",
       "183726  Harry Giles                 DNP - Coach's Decision                     \n",
       "184083  Harry Giles                 DNP - Coach's Decision                     \n",
       "184368  Harry Giles                 DND - Injury/Illness                       \n",
       "\n",
       "         MIN  FGM     ...      PF  PTS  PLUS_MINUS  LOCATION  AGAINST_TEAM_ID  \\\n",
       "182770  None  NaN     ...     NaN  NaN         NaN      HOME       1610612759   \n",
       "183726  None  NaN     ...     NaN  NaN         NaN      AWAY       1610612759   \n",
       "184083  None  NaN     ...     NaN  NaN         NaN      AWAY       1610612747   \n",
       "184368  None  NaN     ...     NaN  NaN         NaN      HOME       1610612757   \n",
       "\n",
       "         GAME_TYPE        GAME_DATE_EST  GAME_SEQUENCE  MINS   GAME_ID_O  \n",
       "182770  pre_season  2017-10-02T00:00:00              6   NaN  1700100010  \n",
       "183726  pre_season  2017-10-06T00:00:00              7   NaN  1700100036  \n",
       "184083  pre_season  2017-10-08T00:00:00              8   NaN  1700100043  \n",
       "184368  pre_season  2017-10-09T00:00:00              8   NaN  1700100053  \n",
       "\n",
       "[4 rows x 35 columns]"
      ]
     },
     "execution_count": 10,
     "metadata": {},
     "output_type": "execute_result"
    }
   ],
   "source": [
    "ordered_logs = player_stats_logs.sort_values('GAME_ID_O')\n",
    "ordered_logs"
   ]
  },
  {
   "cell_type": "code",
   "execution_count": null,
   "metadata": {
    "collapsed": true
   },
   "outputs": [],
   "source": []
  },
  {
   "cell_type": "code",
   "execution_count": null,
   "metadata": {
    "collapsed": true
   },
   "outputs": [],
   "source": []
  },
  {
   "cell_type": "code",
   "execution_count": null,
   "metadata": {
    "collapsed": true
   },
   "outputs": [],
   "source": []
  },
  {
   "cell_type": "code",
   "execution_count": null,
   "metadata": {
    "collapsed": true
   },
   "outputs": [],
   "source": []
  },
  {
   "cell_type": "code",
   "execution_count": null,
   "metadata": {
    "collapsed": true
   },
   "outputs": [],
   "source": []
  },
  {
   "cell_type": "code",
   "execution_count": null,
   "metadata": {
    "collapsed": true
   },
   "outputs": [],
   "source": []
  },
  {
   "cell_type": "code",
   "execution_count": null,
   "metadata": {
    "collapsed": true
   },
   "outputs": [],
   "source": []
  },
  {
   "cell_type": "code",
   "execution_count": null,
   "metadata": {
    "collapsed": true
   },
   "outputs": [],
   "source": []
  }
 ],
 "metadata": {
  "kernelspec": {
   "display_name": "Python 3",
   "language": "python",
   "name": "python3"
  },
  "language_info": {
   "codemirror_mode": {
    "name": "ipython",
    "version": 3
   },
   "file_extension": ".py",
   "mimetype": "text/x-python",
   "name": "python",
   "nbconvert_exporter": "python",
   "pygments_lexer": "ipython3",
   "version": "3.6.1"
  }
 },
 "nbformat": 4,
 "nbformat_minor": 2
}
