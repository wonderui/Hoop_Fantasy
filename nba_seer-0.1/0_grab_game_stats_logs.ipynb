{
 "cells": [
  {
   "cell_type": "code",
   "execution_count": 4,
   "metadata": {
    "collapsed": true
   },
   "outputs": [],
   "source": [
    "import datetime\n",
    "import time\n",
    "import functools\n",
    "\n",
    "import pandas as pd\n",
    "import numpy as np\n",
    "\n",
    "import nba_py\n",
    "import nba_py.game\n",
    "import nba_py.player\n",
    "import nba_py.team\n",
    "\n",
    "import pymysql\n",
    "from sqlalchemy import create_engine\n",
    "\n",
    "from password import hoop_pwd\n",
    "pwd = hoop_pwd.password"
   ]
  },
  {
   "cell_type": "code",
   "execution_count": 2,
   "metadata": {
    "scrolled": true
   },
   "outputs": [
    {
     "name": "stdout",
     "output_type": "stream",
     "text": [
      "7030 games loaded.\n",
      "2017-10-02 finished!    17:03:08\n",
      "2017-10-03 finished!    17:03:10\n",
      "2017-10-04 finished!    17:03:11\n",
      "7 duplicates droped.\n",
      "12 games added.\n",
      "7042 game headers commit complete!\n"
     ]
    }
   ],
   "source": [
    "conn = create_engine('mysql+pymysql://root:%s@118.190.202.87:3306/nba_stats' % pwd)\n",
    "\n",
    "try:\n",
    "    # read sql table of game header\n",
    "    game_header = pd.read_sql_table('game_header', conn)\n",
    "    length_1 = len(game_header)\n",
    "    print(str(length_1) + ' games loaded.')\n",
    "    # set begin date to the newest date in sql table\n",
    "    begin = datetime.datetime.strptime(game_header.iloc[-1]['GAME_DATE_EST'][:10], \"%Y-%m-%d\").date()\n",
    "except ValueError:\n",
    "    print('no table yet!')\n",
    "    length_1 = 0\n",
    "    # if no table yet, set begin date to 2012-10-29\n",
    "    begin = datetime.date(2012, 10, 29)\n",
    "    # grab game headers of begining date\n",
    "    game_header = nba_py.Scoreboard(month = begin.month, \n",
    "                                        day = begin.day, \n",
    "                                        year = begin.year, league_id = '00', offset = 0).game_header()\n",
    "\n",
    "# set end date to today\n",
    "end = datetime.date.today()\n",
    "\n",
    "for i in range((end - begin).days + 1):\n",
    "    # grab game headers from begin date to end date\n",
    "    day = begin + datetime.timedelta(days = i)\n",
    "    game_header = game_header.append(nba_py.Scoreboard(month = day.month, \n",
    "                                                       day = day.day, \n",
    "                                                       year = day.year, \n",
    "                                                       league_id = '00', \n",
    "                                                       offset = 0).game_header())\n",
    "    print(str(day) + ' finished!    ' + str(datetime.datetime.now().time())[:8])\n",
    "\n",
    "length_2 = len(game_header)\n",
    "# drop the duplicate by game id\n",
    "game_header = game_header.drop_duplicates('GAME_ID')\n",
    "length_3 = len(game_header)\n",
    "print(str(length_2 - length_3) + ' duplicates droped.')\n",
    "print(str(length_3 - length_1) + ' games added.')\n",
    "\n",
    "# sort game headers by game id ascending\n",
    "# game_header = game_header.sort_values('GAME_ID')\n",
    "\n",
    "# commit new game headers to sql table\n",
    "game_header.to_sql('game_header', conn, index = False, if_exists = 'replace')\n",
    "print(str(length_3) + ' game headers commit complete!')"
   ]
  },
  {
   "cell_type": "code",
   "execution_count": 3,
   "metadata": {},
   "outputs": [
    {
     "name": "stdout",
     "output_type": "stream",
     "text": [
      "182572 player stats loaded.\n",
      "game 0011300114 added!    17:03:34\n",
      "game 0011700005 added!    17:03:35\n",
      "game 0011700008 added!    17:03:37\n",
      "game 0011700006 added!    17:03:39\n",
      "game 0011700009 added!    17:03:41\n",
      "game 0011700007 added!    17:03:42\n",
      "game 0011700010 added!    17:03:43\n",
      "game 0011700011 added!    17:03:45\n",
      "game 0011700016 added!    17:03:47\n",
      "game 0011700012 added!    17:03:48\n",
      "game 0011700013 added!    17:03:50\n",
      "game 0011700014 added!    17:03:51\n",
      "game 0011700015 added!    17:03:53\n",
      "game 0011700017 added!    17:03:53\n",
      "game 0011700018 added!    17:03:54\n",
      "game 0011700019 added!    17:03:55\n",
      "game 0011700020 added!    17:03:56\n",
      "game 0011700023 added!    17:03:57\n",
      "game 0011700021 added!    17:03:58\n",
      "game 0011700022 added!    17:03:59\n",
      "0 duplicates droped.\n",
      "454 player stats added.\n",
      "454 player stats commit complete!\n"
     ]
    }
   ],
   "source": [
    "conn = create_engine('mysql+pymysql://root:%s@118.190.202.87:3306/nba_stats' % pwd)\n",
    "\n",
    "game_stats_logs = pd.DataFrame()\n",
    "\n",
    "try:\n",
    "    # read sql table of game stats logs id\n",
    "    game_stats_logs_id = pd.read_sql_table('game_stats_logs', conn, columns = ['GAME_ID'])\n",
    "    length_1 = len(game_stats_logs_id)\n",
    "    print(str(length_1) + ' player stats loaded.')\n",
    "except ValueError:\n",
    "    print('no table yet!')\n",
    "    length_1 = 0\n",
    "    # create table and commit it to sql\n",
    "    game_stats_logs.to_sql('game_stats_logs', conn, index = False, if_exists = 'append')\n",
    "    print('game stats logs initialized!')\n",
    "\n",
    "# define game types by the head of game id\n",
    "game_type = {'001': 'pre_season', '002': 'regular_season', '003': 'all_star', '004': 'play_offs'}\n",
    "\n",
    "# ------method 1------for game id in game headers from the max one in sql table\n",
    "# for i in game_header[game_header['GAME_ID'] >= game_stats_logs['GAME_ID'].max()]['GAME_ID']:\n",
    "\n",
    "# ------method 2------for game id in game header but not in game stats logs \n",
    "for i in game_header['GAME_ID'][game_header['GAME_ID'].isin(game_stats_logs_id['GAME_ID'].drop_duplicates()) == False]:\n",
    "    # get game player stats of i\n",
    "    game_stats = nba_py.game.Boxscore(i).player_stats()\n",
    "    # create home team player stats\n",
    "    home_team_id = int(game_header[game_header['GAME_ID'] == i]['HOME_TEAM_ID'])\n",
    "    home_stats_logs = game_stats[game_stats['TEAM_ID'] == int(home_team_id)].copy()\n",
    "    home_stats_logs['LOCATION'] = 'HOME'\n",
    "    home_stats_logs['AGAINST_TEAM_ID'] = int(game_header[game_header['GAME_ID'] == i]['VISITOR_TEAM_ID'])\n",
    "    # create away team player stats\n",
    "    away_team_id = int(game_header[game_header['GAME_ID'] == i]['VISITOR_TEAM_ID'])\n",
    "    away_stats_logs = game_stats[game_stats['TEAM_ID'] == int(away_team_id)].copy()\n",
    "    away_stats_logs['LOCATION'] = 'AWAY'\n",
    "    away_stats_logs['AGAINST_TEAM_ID'] = int(game_header[game_header['GAME_ID'] == i]['HOME_TEAM_ID'])\n",
    "    # combine home and away team player stats and append to game stats logs\n",
    "    game_stats_logs = game_stats_logs.append(home_stats_logs)\n",
    "    game_stats_logs = game_stats_logs.append(away_stats_logs)\n",
    "    print('game ' + i + ' added!    ' + str(datetime.datetime.now().time())[:8])\n",
    "\n",
    "def min_convert(m):\n",
    "    '''\n",
    "    convert mm:ss to float\n",
    "    '''\n",
    "    try:\n",
    "        if ':' in m:\n",
    "            return float(m[:-3]) + round(float(m[-2:])/60, 2)\n",
    "        else:\n",
    "            return float(m)\n",
    "    except TypeError:\n",
    "        return None\n",
    "\n",
    "# create float time\n",
    "game_stats_logs['MINS'] = game_stats_logs['MIN'].apply(min_convert)\n",
    "# add game type\n",
    "game_stats_logs['GAME_TYPE'] = game_stats_logs['GAME_ID'].apply(lambda x: x[:3]).map(game_type)\n",
    "# add game date and game sequence\n",
    "game_stats_logs = game_stats_logs.merge(game_header[['GAME_DATE_EST', 'GAME_SEQUENCE', 'GAME_ID']], \n",
    "                                        how = 'left', on = 'GAME_ID')\n",
    "# add new ordered game_id\n",
    "game_stats_logs['GAME_ID_O'] = game_stats_logs['GAME_ID'].apply(lambda x: x[3:5] + x[:3] + x[-5:])\n",
    "\n",
    "length_2 = len(game_stats_logs)\n",
    "# drop duplicate game stats by game id and player id\n",
    "game_stats_logs = game_stats_logs.drop_duplicates(['GAME_ID', 'PLAYER_ID'])\n",
    "length_3 = len(game_stats_logs)\n",
    "print(str(length_2 - length_3) + ' duplicates droped.')\n",
    "print(str(length_3) + ' player stats added.')\n",
    "\n",
    "# commit new game stats logs to sql table\n",
    "game_stats_logs.to_sql('game_stats_logs', conn, index = False, if_exists = 'append')\n",
    "print(str(length_3) + ' player stats commit complete!')"
   ]
  },
  {
   "cell_type": "code",
   "execution_count": null,
   "metadata": {
    "collapsed": true
   },
   "outputs": [],
   "source": []
  },
  {
   "cell_type": "code",
   "execution_count": null,
   "metadata": {},
   "outputs": [],
   "source": []
  },
  {
   "cell_type": "code",
   "execution_count": null,
   "metadata": {
    "collapsed": true
   },
   "outputs": [],
   "source": []
  },
  {
   "cell_type": "code",
   "execution_count": 6,
   "metadata": {},
   "outputs": [
    {
     "data": {
      "text/html": [
       "<div>\n",
       "<style>\n",
       "    .dataframe thead tr:only-child th {\n",
       "        text-align: right;\n",
       "    }\n",
       "\n",
       "    .dataframe thead th {\n",
       "        text-align: left;\n",
       "    }\n",
       "\n",
       "    .dataframe tbody tr th {\n",
       "        vertical-align: top;\n",
       "    }\n",
       "</style>\n",
       "<table border=\"1\" class=\"dataframe\">\n",
       "  <thead>\n",
       "    <tr style=\"text-align: right;\">\n",
       "      <th></th>\n",
       "      <th>GAME_ID</th>\n",
       "      <th>TEAM_ID</th>\n",
       "      <th>TEAM_NAME</th>\n",
       "      <th>TEAM_ABBREVIATION</th>\n",
       "      <th>TEAM_CITY</th>\n",
       "      <th>MIN</th>\n",
       "      <th>FGM</th>\n",
       "      <th>FGA</th>\n",
       "      <th>FG_PCT</th>\n",
       "      <th>FG3M</th>\n",
       "      <th>...</th>\n",
       "      <th>OREB</th>\n",
       "      <th>DREB</th>\n",
       "      <th>REB</th>\n",
       "      <th>AST</th>\n",
       "      <th>STL</th>\n",
       "      <th>BLK</th>\n",
       "      <th>TO</th>\n",
       "      <th>PF</th>\n",
       "      <th>PTS</th>\n",
       "      <th>PLUS_MINUS</th>\n",
       "    </tr>\n",
       "  </thead>\n",
       "  <tbody>\n",
       "    <tr>\n",
       "      <th>0</th>\n",
       "      <td>0011700012</td>\n",
       "      <td>1610612740</td>\n",
       "      <td>Pelicans</td>\n",
       "      <td>NOP</td>\n",
       "      <td>New Orleans</td>\n",
       "      <td>None</td>\n",
       "      <td>None</td>\n",
       "      <td>None</td>\n",
       "      <td>None</td>\n",
       "      <td>None</td>\n",
       "      <td>...</td>\n",
       "      <td>None</td>\n",
       "      <td>None</td>\n",
       "      <td>None</td>\n",
       "      <td>None</td>\n",
       "      <td>None</td>\n",
       "      <td>None</td>\n",
       "      <td>None</td>\n",
       "      <td>None</td>\n",
       "      <td>None</td>\n",
       "      <td>None</td>\n",
       "    </tr>\n",
       "    <tr>\n",
       "      <th>1</th>\n",
       "      <td>0011700012</td>\n",
       "      <td>1610612741</td>\n",
       "      <td>Bulls</td>\n",
       "      <td>CHI</td>\n",
       "      <td>Chicago</td>\n",
       "      <td>None</td>\n",
       "      <td>None</td>\n",
       "      <td>None</td>\n",
       "      <td>None</td>\n",
       "      <td>None</td>\n",
       "      <td>...</td>\n",
       "      <td>None</td>\n",
       "      <td>None</td>\n",
       "      <td>None</td>\n",
       "      <td>None</td>\n",
       "      <td>None</td>\n",
       "      <td>None</td>\n",
       "      <td>None</td>\n",
       "      <td>None</td>\n",
       "      <td>None</td>\n",
       "      <td>None</td>\n",
       "    </tr>\n",
       "  </tbody>\n",
       "</table>\n",
       "<p>2 rows × 25 columns</p>\n",
       "</div>"
      ],
      "text/plain": [
       "      GAME_ID     TEAM_ID TEAM_NAME TEAM_ABBREVIATION    TEAM_CITY   MIN  \\\n",
       "0  0011700012  1610612740  Pelicans               NOP  New Orleans  None   \n",
       "1  0011700012  1610612741     Bulls               CHI      Chicago  None   \n",
       "\n",
       "    FGM   FGA FG_PCT  FG3M    ...      OREB  DREB   REB   AST   STL   BLK  \\\n",
       "0  None  None   None  None    ...      None  None  None  None  None  None   \n",
       "1  None  None   None  None    ...      None  None  None  None  None  None   \n",
       "\n",
       "     TO    PF   PTS PLUS_MINUS  \n",
       "0  None  None  None       None  \n",
       "1  None  None  None       None  \n",
       "\n",
       "[2 rows x 25 columns]"
      ]
     },
     "execution_count": 6,
     "metadata": {},
     "output_type": "execute_result"
    }
   ],
   "source": [
    "nba_py.game.Boxscore('0011700012').team_stats()"
   ]
  },
  {
   "cell_type": "code",
   "execution_count": null,
   "metadata": {
    "collapsed": true
   },
   "outputs": [],
   "source": []
  },
  {
   "cell_type": "code",
   "execution_count": null,
   "metadata": {
    "collapsed": true
   },
   "outputs": [],
   "source": []
  },
  {
   "cell_type": "code",
   "execution_count": null,
   "metadata": {
    "collapsed": true
   },
   "outputs": [],
   "source": []
  },
  {
   "cell_type": "code",
   "execution_count": null,
   "metadata": {
    "collapsed": true
   },
   "outputs": [],
   "source": []
  },
  {
   "cell_type": "code",
   "execution_count": null,
   "metadata": {
    "collapsed": true
   },
   "outputs": [],
   "source": []
  },
  {
   "cell_type": "code",
   "execution_count": null,
   "metadata": {
    "collapsed": true
   },
   "outputs": [],
   "source": []
  },
  {
   "cell_type": "code",
   "execution_count": null,
   "metadata": {
    "collapsed": true
   },
   "outputs": [],
   "source": []
  },
  {
   "cell_type": "code",
   "execution_count": null,
   "metadata": {
    "collapsed": true
   },
   "outputs": [],
   "source": []
  },
  {
   "cell_type": "code",
   "execution_count": null,
   "metadata": {
    "collapsed": true
   },
   "outputs": [],
   "source": []
  }
 ],
 "metadata": {
  "kernelspec": {
   "display_name": "Python 3",
   "language": "python",
   "name": "python3"
  },
  "language_info": {
   "codemirror_mode": {
    "name": "ipython",
    "version": 3
   },
   "file_extension": ".py",
   "mimetype": "text/x-python",
   "name": "python",
   "nbconvert_exporter": "python",
   "pygments_lexer": "ipython3",
   "version": "3.6.1"
  }
 },
 "nbformat": 4,
 "nbformat_minor": 2
}
