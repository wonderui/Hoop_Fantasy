{
 "cells": [
  {
   "cell_type": "code",
   "execution_count": 17,
   "metadata": {
    "collapsed": true
   },
   "outputs": [],
   "source": [
    "import datetime\n",
    "import time\n",
    "import functools\n",
    "\n",
    "import pandas as pd\n",
    "import numpy as np\n",
    "import pytz\n",
    "\n",
    "import nba_py\n",
    "import nba_py.game\n",
    "import nba_py.player\n",
    "import nba_py.team\n",
    "\n",
    "import pymysql\n",
    "from sqlalchemy import create_engine\n",
    "\n",
    "from password import hoop_pwd\n",
    "pwd = hoop_pwd.password"
   ]
  },
  {
   "cell_type": "code",
   "execution_count": 35,
   "metadata": {
    "scrolled": true
   },
   "outputs": [
    {
     "name": "stdout",
     "output_type": "stream",
     "text": [
      "New York time: 2017-10-06 08:48:28\n",
      "7040 games loaded.\n",
      "2017-09-29 finished!    20:48:37\n",
      "2017-09-30 finished!    20:48:39\n",
      "2017-10-01 finished!    20:48:41\n",
      "2017-10-02 finished!    20:48:41\n",
      "2017-10-03 finished!    20:48:41\n",
      "2017-10-04 finished!    20:48:41\n",
      "2017-10-05 finished!    20:48:42\n",
      "21 duplicates droped.\n",
      "7 games added.\n",
      "7047 game headers commit complete!\n"
     ]
    }
   ],
   "source": [
    "conn = create_engine('mysql+pymysql://root:%s@118.190.202.87:3306/nba_stats' % pwd)\n",
    "\n",
    "ustz = pytz.timezone('America/New_York')\n",
    "us_time = datetime.datetime.now(ustz)\n",
    "print('New York time: ' + str(us_time.date()) + ' ' + str(us_time.time())[:8])\n",
    "\n",
    "try:\n",
    "    # read sql table of game header\n",
    "    game_header = pd.read_sql_table('game_header', conn)\n",
    "    length_1 = len(game_header)\n",
    "    print(str(length_1) + ' games loaded.')\n",
    "    # set begin date to the newest date in sql table\n",
    "    begin = datetime.datetime.strptime(game_header.iloc[-1]['GAME_DATE_EST'][:10], \n",
    "                                       \"%Y-%m-%d\").date() + datetime.timedelta(days=-2)\n",
    "except ValueError:\n",
    "    print('no table yet!')\n",
    "    length_1 = 0\n",
    "    # if no table yet, set begin date to 2012-10-29\n",
    "    begin = datetime.date(2012, 10, 29)\n",
    "    # grab game headers of begining date\n",
    "    game_header = nba_py.Scoreboard(month = begin.month, \n",
    "                                        day = begin.day, \n",
    "                                        year = begin.year, league_id = '00', offset = 0).game_header()\n",
    "\n",
    "# set end date to us yesterday\n",
    "end = us_time.date() + datetime.timedelta(days=-1)\n",
    "\n",
    "for i in range((end - begin).days + 1):\n",
    "    # grab game headers from begin date to end date\n",
    "    day = begin + datetime.timedelta(days = i)\n",
    "    game_header = game_header.append(nba_py.Scoreboard(month = day.month, \n",
    "                                                       day = day.day, \n",
    "                                                       year = day.year, \n",
    "                                                       league_id = '00', \n",
    "                                                       offset = 0).game_header())\n",
    "    print(str(day) + ' finished!    ' + str(datetime.datetime.now().time())[:8])\n",
    "\n",
    "game_header = game_header[game_header['GAME_STATUS_ID'] == 3]\n",
    "    \n",
    "length_2 = len(game_header)\n",
    "# drop the duplicate by game id\n",
    "game_header = game_header.drop_duplicates('GAME_ID')\n",
    "length_3 = len(game_header)\n",
    "print(str(length_2 - length_3) + ' duplicates droped.')\n",
    "print(str(length_3 - length_1) + ' games added.')\n",
    "\n",
    "# sort game headers by game id ascending\n",
    "# game_header = game_header.sort_values('GAME_ID')\n",
    "\n",
    "# commit new game headers to sql table\n",
    "game_header.to_sql('game_header', conn, index = False, if_exists = 'replace')\n",
    "print(str(length_3) + ' game headers commit complete!')"
   ]
  },
  {
   "cell_type": "code",
   "execution_count": 36,
   "metadata": {},
   "outputs": [
    {
     "name": "stdout",
     "output_type": "stream",
     "text": [
      "183026 player stats loaded.\n",
      "game 0011300114 added!    20:53:25\n",
      "game 0011700024 added!    20:53:26\n",
      "game 0011700025 added!    20:53:29\n",
      "game 0011700028 added!    20:53:30\n",
      "game 0011700026 added!    20:53:32\n",
      "game 0011700027 added!    20:53:34\n",
      "game 0011700017 added!    20:53:35\n",
      "game 0011700018 added!    20:53:38\n",
      "game 0011700019 added!    20:53:39\n",
      "game 0011700020 added!    20:53:41\n",
      "game 0011700023 added!    20:53:44\n",
      "game 0011700021 added!    20:53:46\n",
      "game 0011700022 added!    20:53:48\n",
      "0 duplicates droped.\n",
      "452 player stats added.\n",
      "452 player stats commit complete!\n"
     ]
    }
   ],
   "source": [
    "conn = create_engine('mysql+pymysql://root:%s@118.190.202.87:3306/nba_stats' % pwd)\n",
    "\n",
    "game_stats_logs = pd.DataFrame()\n",
    "\n",
    "try:\n",
    "    # read sql table of game stats logs id\n",
    "    game_stats_logs_id = pd.read_sql_table('game_stats_logs', conn, columns = ['GAME_ID'])\n",
    "    length_1 = len(game_stats_logs_id)\n",
    "    print(str(length_1) + ' player stats loaded.')\n",
    "except ValueError:\n",
    "    print('no table yet!')\n",
    "    length_1 = 0\n",
    "    # create table and commit it to sql\n",
    "    game_stats_logs.to_sql('game_stats_logs', conn, index = False, if_exists = 'append')\n",
    "    print('game stats logs initialized!')\n",
    "\n",
    "# define game types by the head of game id\n",
    "game_type = {'001': 'pre_season', '002': 'regular_season', '003': 'all_star', '004': 'play_offs'}\n",
    "\n",
    "# ------method 1------for game id in game headers from the max one in sql table\n",
    "# for i in game_header[game_header['GAME_ID'] >= game_stats_logs['GAME_ID'].max()]['GAME_ID']:\n",
    "\n",
    "# ------method 2------for game id in game header but not in game stats logs \n",
    "for i in game_header['GAME_ID'][game_header['GAME_ID'].isin(game_stats_logs_id['GAME_ID'].drop_duplicates()) == False]:\n",
    "    # get game player stats of i\n",
    "    game_stats = nba_py.game.Boxscore(i).player_stats()\n",
    "    # create home team player stats\n",
    "    home_team_id = int(game_header[game_header['GAME_ID'] == i]['HOME_TEAM_ID'])\n",
    "    home_stats_logs = game_stats[game_stats['TEAM_ID'] == int(home_team_id)].copy()\n",
    "    home_stats_logs['LOCATION'] = 'HOME'\n",
    "    home_stats_logs['AGAINST_TEAM_ID'] = int(game_header[game_header['GAME_ID'] == i]['VISITOR_TEAM_ID'])\n",
    "    # create away team player stats\n",
    "    away_team_id = int(game_header[game_header['GAME_ID'] == i]['VISITOR_TEAM_ID'])\n",
    "    away_stats_logs = game_stats[game_stats['TEAM_ID'] == int(away_team_id)].copy()\n",
    "    away_stats_logs['LOCATION'] = 'AWAY'\n",
    "    away_stats_logs['AGAINST_TEAM_ID'] = int(game_header[game_header['GAME_ID'] == i]['HOME_TEAM_ID'])\n",
    "    # combine home and away team player stats and append to game stats logs\n",
    "    game_stats_logs = game_stats_logs.append(home_stats_logs)\n",
    "    game_stats_logs = game_stats_logs.append(away_stats_logs)\n",
    "    print('game ' + i + ' added!    ' + str(datetime.datetime.now().time())[:8])\n",
    "\n",
    "def min_convert(m):\n",
    "    '''\n",
    "    convert mm:ss to float\n",
    "    '''\n",
    "    try:\n",
    "        if ':' in m:\n",
    "            return float(m[:-3]) + round(float(m[-2:])/60, 2)\n",
    "        else:\n",
    "            return float(m)\n",
    "    except TypeError:\n",
    "        return None\n",
    "\n",
    "# create float time\n",
    "game_stats_logs['MINS'] = game_stats_logs['MIN'].apply(min_convert)\n",
    "# add game type\n",
    "game_stats_logs['GAME_TYPE'] = game_stats_logs['GAME_ID'].apply(lambda x: x[:3]).map(game_type)\n",
    "# add game date and game sequence\n",
    "game_stats_logs = game_stats_logs.merge(game_header[['GAME_DATE_EST', 'GAME_SEQUENCE', 'GAME_ID']], \n",
    "                                        how = 'left', on = 'GAME_ID')\n",
    "# add new ordered game_id\n",
    "game_stats_logs['GAME_ID_O'] = game_stats_logs['GAME_ID'].apply(lambda x: x[3:5] + x[:3] + x[-5:])\n",
    "\n",
    "length_2 = len(game_stats_logs)\n",
    "# drop duplicate game stats by game id and player id\n",
    "game_stats_logs = game_stats_logs.drop_duplicates(['GAME_ID', 'PLAYER_ID'])\n",
    "length_3 = len(game_stats_logs)\n",
    "print(str(length_2 - length_3) + ' duplicates droped.')\n",
    "print(str(length_3) + ' player stats added.')\n",
    "\n",
    "# commit new game stats logs to sql table\n",
    "game_stats_logs.to_sql('game_stats_logs', conn, index = False, if_exists = 'append')\n",
    "print(str(length_3) + ' player stats commit complete!')"
   ]
  },
  {
   "cell_type": "code",
   "execution_count": null,
   "metadata": {
    "collapsed": true
   },
   "outputs": [],
   "source": []
  },
  {
   "cell_type": "code",
   "execution_count": null,
   "metadata": {
    "collapsed": true
   },
   "outputs": [],
   "source": []
  },
  {
   "cell_type": "code",
   "execution_count": null,
   "metadata": {
    "collapsed": true
   },
   "outputs": [],
   "source": []
  },
  {
   "cell_type": "code",
   "execution_count": null,
   "metadata": {},
   "outputs": [],
   "source": []
  },
  {
   "cell_type": "code",
   "execution_count": null,
   "metadata": {},
   "outputs": [],
   "source": []
  },
  {
   "cell_type": "code",
   "execution_count": null,
   "metadata": {},
   "outputs": [],
   "source": []
  },
  {
   "cell_type": "code",
   "execution_count": null,
   "metadata": {},
   "outputs": [],
   "source": []
  },
  {
   "cell_type": "code",
   "execution_count": null,
   "metadata": {},
   "outputs": [],
   "source": []
  },
  {
   "cell_type": "code",
   "execution_count": null,
   "metadata": {},
   "outputs": [],
   "source": []
  },
  {
   "cell_type": "code",
   "execution_count": null,
   "metadata": {
    "collapsed": true
   },
   "outputs": [],
   "source": []
  },
  {
   "cell_type": "code",
   "execution_count": null,
   "metadata": {
    "collapsed": true
   },
   "outputs": [],
   "source": []
  },
  {
   "cell_type": "code",
   "execution_count": null,
   "metadata": {
    "collapsed": true
   },
   "outputs": [],
   "source": []
  },
  {
   "cell_type": "code",
   "execution_count": null,
   "metadata": {
    "collapsed": true
   },
   "outputs": [],
   "source": []
  }
 ],
 "metadata": {
  "kernelspec": {
   "display_name": "Python 3",
   "language": "python",
   "name": "python3"
  },
  "language_info": {
   "codemirror_mode": {
    "name": "ipython",
    "version": 3
   },
   "file_extension": ".py",
   "mimetype": "text/x-python",
   "name": "python",
   "nbconvert_exporter": "python",
   "pygments_lexer": "ipython3",
   "version": "3.6.1"
  }
 },
 "nbformat": 4,
 "nbformat_minor": 2
}
