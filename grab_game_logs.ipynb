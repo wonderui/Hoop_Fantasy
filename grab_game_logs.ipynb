{
 "cells": [
  {
   "cell_type": "code",
   "execution_count": 1,
   "metadata": {
    "collapsed": true
   },
   "outputs": [],
   "source": [
    "import nba_py\n",
    "import datetime\n",
    "import time\n",
    "import nba_py.game\n",
    "import nba_py.player\n",
    "import nba_py.team\n",
    "import pandas as pd\n",
    "import numpy as np\n",
    "import functools\n",
    "import pymysql\n",
    "from sqlalchemy import create_engine\n",
    "%matplotlib inline"
   ]
  },
  {
   "cell_type": "code",
   "execution_count": null,
   "metadata": {},
   "outputs": [],
   "source": [
    "conn = create_engine('mysql+pymysql://root:@localhost:3306/nba_stats')\n",
    "\n",
    "player_list_18 = nba_py.player.PlayerList(season = '2017-18').info()['PERSON_ID']\n",
    "print('Player list load complete!')\n",
    "\n",
    "team_list = nba_py.team.TeamList().info()\n",
    "team_id_dict = team_list[['TEAM_ID', 'ABBREVIATION']].set_index('ABBREVIATION').to_dict()['TEAM_ID']\n",
    "print('Team list loaded!')\n",
    "\n",
    "game_logs = pd.read_sql_table('game_logs', conn)\n",
    "length_former = len(game_logs)\n",
    "print(str(length_former) + ' game logs loaded.')\n",
    "\n",
    "for p in player_list_18:\n",
    "    for y in ['2014-15', '2015-16', '2016-17']:\n",
    "        print(p, y, str(player_list_18[player_list_18 == p].index[0] + 1) + '/' + str(len(player_list_18)))\n",
    "        game_logs = game_logs.append(nba_py.player.PlayerGameLogs(p, season = y).info())\n",
    "\n",
    "'''\n",
    "for p in player_list_18:\n",
    "    game_logs = game_logs.append(nba_py.player.PlayerGameLogs(p, season = '2017-18').info())\n",
    "'''\n",
    "        \n",
    "game_logs = game_logs.drop_duplicates(['Player_ID', 'Game_ID'])\n",
    "length_new = len(game_logs)\n",
    "print(str(length_new - length_former) + ' game logs append!')\n",
    "\n",
    "game_logs['LOCATION'] = game_logs['MATCHUP'].apply(lambda x: 'AWAY' if '@' in x else 'HOME')\n",
    "print('Game location assigned.')\n",
    "game_logs['Oppo'] = game_logs['MATCHUP'].apply(lambda x: x[-3:])\n",
    "print('Game opponent assigned.')\n",
    "game_logs['Oppo_ID'] = game_logs['Oppo'].map(team_id_dict)\n",
    "print('Game opponent id assigned.')\n",
    "\n",
    "game_logs.to_sql('game_logs', conn, index = False, if_exists = 'replace')\n",
    "print(str(length_new) + ' game logs commit complete!')"
   ]
  },
  {
   "cell_type": "code",
   "execution_count": null,
   "metadata": {},
   "outputs": [],
   "source": []
  },
  {
   "cell_type": "code",
   "execution_count": null,
   "metadata": {
    "collapsed": true
   },
   "outputs": [],
   "source": []
  },
  {
   "cell_type": "code",
   "execution_count": null,
   "metadata": {},
   "outputs": [],
   "source": []
  },
  {
   "cell_type": "code",
   "execution_count": null,
   "metadata": {
    "collapsed": true
   },
   "outputs": [],
   "source": []
  },
  {
   "cell_type": "code",
   "execution_count": null,
   "metadata": {},
   "outputs": [],
   "source": []
  },
  {
   "cell_type": "code",
   "execution_count": null,
   "metadata": {},
   "outputs": [],
   "source": []
  },
  {
   "cell_type": "code",
   "execution_count": null,
   "metadata": {
    "collapsed": true
   },
   "outputs": [],
   "source": []
  },
  {
   "cell_type": "code",
   "execution_count": null,
   "metadata": {},
   "outputs": [],
   "source": []
  },
  {
   "cell_type": "code",
   "execution_count": null,
   "metadata": {},
   "outputs": [],
   "source": []
  },
  {
   "cell_type": "code",
   "execution_count": null,
   "metadata": {
    "collapsed": true
   },
   "outputs": [],
   "source": []
  }
 ],
 "metadata": {
  "kernelspec": {
   "display_name": "Python 3",
   "language": "python",
   "name": "python3"
  },
  "language_info": {
   "codemirror_mode": {
    "name": "ipython",
    "version": 3
   },
   "file_extension": ".py",
   "mimetype": "text/x-python",
   "name": "python",
   "nbconvert_exporter": "python",
   "pygments_lexer": "ipython3",
   "version": "3.6.1"
  }
 },
 "nbformat": 4,
 "nbformat_minor": 2
}
