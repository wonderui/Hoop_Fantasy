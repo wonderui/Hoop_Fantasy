{
 "cells": [
  {
   "cell_type": "code",
   "execution_count": 8,
   "metadata": {
    "collapsed": true
   },
   "outputs": [],
   "source": [
    "import nba_py\n",
    "import datetime\n",
    "import nba_py.game\n",
    "import nba_py.player\n",
    "import nba_py.team\n",
    "import pandas as pd\n",
    "\n",
    "today = datetime.date.today()\n",
    "tomorrow = today + datetime.timedelta(days = 1)\n",
    "someday = datetime.date(2017, 1, 1)"
   ]
  },
  {
   "cell_type": "code",
   "execution_count": 2,
   "metadata": {},
   "outputs": [
    {
     "data": {
      "text/plain": [
       "0    0021600510\n",
       "1    0021600509\n",
       "2    0021600508\n",
       "3    0021600511\n",
       "4    0021600512\n",
       "Name: GAME_ID, dtype: object"
      ]
     },
     "execution_count": 2,
     "metadata": {},
     "output_type": "execute_result"
    }
   ],
   "source": [
    "def get_games(date):\n",
    "    '''\n",
    "    return a pandas.Series of all the games available on this day.\n",
    "    '''\n",
    "    return nba_py.Scoreboard(month = date.month, \n",
    "                             day = date.day, \n",
    "                             year = date.year, \n",
    "                             league_id = '00', \n",
    "                             offset = 0).available()['GAME_ID']\n",
    "\n",
    "get_games(someday)"
   ]
  },
  {
   "cell_type": "code",
   "execution_count": 18,
   "metadata": {},
   "outputs": [
    {
     "data": {
      "text/html": [
       "<div>\n",
       "<style>\n",
       "    .dataframe thead tr:only-child th {\n",
       "        text-align: right;\n",
       "    }\n",
       "\n",
       "    .dataframe thead th {\n",
       "        text-align: left;\n",
       "    }\n",
       "\n",
       "    .dataframe tbody tr th {\n",
       "        vertical-align: top;\n",
       "    }\n",
       "</style>\n",
       "<table border=\"1\" class=\"dataframe\">\n",
       "  <thead>\n",
       "    <tr style=\"text-align: right;\">\n",
       "      <th></th>\n",
       "      <th>HOME_TEAM_ID</th>\n",
       "      <th>VISITOR_TEAM_ID</th>\n",
       "    </tr>\n",
       "  </thead>\n",
       "  <tbody>\n",
       "    <tr>\n",
       "      <th>0021600510</th>\n",
       "      <td>1610612754</td>\n",
       "      <td>1610612753</td>\n",
       "    </tr>\n",
       "    <tr>\n",
       "      <th>0021600509</th>\n",
       "      <td>1610612748</td>\n",
       "      <td>1610612765</td>\n",
       "    </tr>\n",
       "    <tr>\n",
       "      <th>0021600508</th>\n",
       "      <td>1610612737</td>\n",
       "      <td>1610612759</td>\n",
       "    </tr>\n",
       "    <tr>\n",
       "      <th>0021600511</th>\n",
       "      <td>1610612750</td>\n",
       "      <td>1610612757</td>\n",
       "    </tr>\n",
       "    <tr>\n",
       "      <th>0021600512</th>\n",
       "      <td>1610612747</td>\n",
       "      <td>1610612761</td>\n",
       "    </tr>\n",
       "  </tbody>\n",
       "</table>\n",
       "</div>"
      ],
      "text/plain": [
       "            HOME_TEAM_ID  VISITOR_TEAM_ID\n",
       "0021600510    1610612754       1610612753\n",
       "0021600509    1610612748       1610612765\n",
       "0021600508    1610612737       1610612759\n",
       "0021600511    1610612750       1610612757\n",
       "0021600512    1610612747       1610612761"
      ]
     },
     "execution_count": 18,
     "metadata": {},
     "output_type": "execute_result"
    }
   ],
   "source": [
    "def get_teams(games):\n",
    "    '''\n",
    "    return a pandas.DataFrame including every games' home team id and away team id.\n",
    "    '''\n",
    "    teams = [nba_py.game.BoxscoreSummary(g).game_summary().loc[0, ['HOME_TEAM_ID', 'VISITOR_TEAM_ID']] \n",
    "             for g in games]\n",
    "    return pd.DataFrame(teams, index = [g for g in games])\n",
    "\n",
    "teams = get_teams(get_games(someday))\n",
    "teams"
   ]
  },
  {
   "cell_type": "code",
   "execution_count": 4,
   "metadata": {},
   "outputs": [
    {
     "data": {
      "text/plain": [
       "Index(['GROUP_SET', 'GROUP_VALUE', 'GP', 'W', 'L', 'W_PCT', 'MIN', 'FGM',\n",
       "       'FGA', 'FG_PCT', 'FG3M', 'FG3A', 'FG3_PCT', 'FTM', 'FTA', 'FT_PCT',\n",
       "       'OREB', 'DREB', 'REB', 'AST', 'TOV', 'STL', 'BLK', 'BLKA', 'PF', 'PFD',\n",
       "       'PTS', 'PLUS_MINUS', 'DD2', 'TD3', 'GP_RANK', 'W_RANK', 'L_RANK',\n",
       "       'W_PCT_RANK', 'MIN_RANK', 'FGM_RANK', 'FGA_RANK', 'FG_PCT_RANK',\n",
       "       'FG3M_RANK', 'FG3A_RANK', 'FG3_PCT_RANK', 'FTM_RANK', 'FTA_RANK',\n",
       "       'FT_PCT_RANK', 'OREB_RANK', 'DREB_RANK', 'REB_RANK', 'AST_RANK',\n",
       "       'TOV_RANK', 'STL_RANK', 'BLK_RANK', 'BLKA_RANK', 'PF_RANK', 'PFD_RANK',\n",
       "       'PTS_RANK', 'PLUS_MINUS_RANK', 'DD2_RANK', 'TD3_RANK', 'CFID',\n",
       "       'CFPARAMS'],\n",
       "      dtype='object')"
      ]
     },
     "execution_count": 4,
     "metadata": {},
     "output_type": "execute_result"
    }
   ],
   "source": [
    "nba_py.player.PlayerLastNGamesSplits('201939').last10().columns"
   ]
  },
  {
   "cell_type": "code",
   "execution_count": 5,
   "metadata": {
    "collapsed": true
   },
   "outputs": [],
   "source": [
    "play_stats_cols = ['GROUP_VALUE', 'GROUP_SET', 'GP', \n",
    "                   'MIN', 'PTS', 'AST', 'OREB', 'DREB', 'STL', 'BLK', 'TOV', \n",
    "                   'FGM', 'FGA', 'FG3M']"
   ]
  },
  {
   "cell_type": "code",
   "execution_count": 6,
   "metadata": {},
   "outputs": [
    {
     "data": {
      "text/html": [
       "<div>\n",
       "<style>\n",
       "    .dataframe thead tr:only-child th {\n",
       "        text-align: right;\n",
       "    }\n",
       "\n",
       "    .dataframe thead th {\n",
       "        text-align: left;\n",
       "    }\n",
       "\n",
       "    .dataframe tbody tr th {\n",
       "        vertical-align: top;\n",
       "    }\n",
       "</style>\n",
       "<table border=\"1\" class=\"dataframe\">\n",
       "  <thead>\n",
       "    <tr style=\"text-align: right;\">\n",
       "      <th></th>\n",
       "      <th>GROUP_VALUE</th>\n",
       "      <th>GROUP_SET</th>\n",
       "      <th>GP</th>\n",
       "      <th>MIN</th>\n",
       "      <th>PTS</th>\n",
       "      <th>AST</th>\n",
       "      <th>OREB</th>\n",
       "      <th>DREB</th>\n",
       "      <th>STL</th>\n",
       "      <th>BLK</th>\n",
       "      <th>TOV</th>\n",
       "      <th>FGM</th>\n",
       "      <th>FGA</th>\n",
       "      <th>FG3M</th>\n",
       "    </tr>\n",
       "  </thead>\n",
       "  <tbody>\n",
       "    <tr>\n",
       "      <th>0</th>\n",
       "      <td>2016-17</td>\n",
       "      <td>Last 10 Games</td>\n",
       "      <td>10</td>\n",
       "      <td>33.2</td>\n",
       "      <td>28.4</td>\n",
       "      <td>8.6</td>\n",
       "      <td>0.8</td>\n",
       "      <td>3.8</td>\n",
       "      <td>2.4</td>\n",
       "      <td>0.4</td>\n",
       "      <td>3.2</td>\n",
       "      <td>9.7</td>\n",
       "      <td>19.4</td>\n",
       "      <td>5.2</td>\n",
       "    </tr>\n",
       "  </tbody>\n",
       "</table>\n",
       "</div>"
      ],
      "text/plain": [
       "  GROUP_VALUE      GROUP_SET  GP   MIN   PTS  AST  OREB  DREB  STL  BLK  TOV  \\\n",
       "0     2016-17  Last 10 Games  10  33.2  28.4  8.6   0.8   3.8  2.4  0.4  3.2   \n",
       "\n",
       "   FGM   FGA  FG3M  \n",
       "0  9.7  19.4   5.2  "
      ]
     },
     "execution_count": 6,
     "metadata": {},
     "output_type": "execute_result"
    }
   ],
   "source": [
    "nba_py.player.PlayerLastNGamesSplits('201939').last10()[play_stats_cols]"
   ]
  },
  {
   "cell_type": "code",
   "execution_count": 17,
   "metadata": {},
   "outputs": [
    {
     "data": {
      "text/plain": [
       "0      201229\n",
       "1      201167\n",
       "2      203463\n",
       "3     1627741\n",
       "4      201954\n",
       "5      202326\n",
       "6      202066\n",
       "7     1627834\n",
       "8      200770\n",
       "9      201585\n",
       "10     204038\n",
       "11    1627781\n",
       "12       2440\n",
       "13     201956\n",
       "14     200752\n",
       "15    1627746\n",
       "16     201951\n",
       "17     201936\n",
       "18    1626161\n",
       "Name: PLAYER_ID, dtype: int64"
      ]
     },
     "execution_count": 17,
     "metadata": {},
     "output_type": "execute_result"
    }
   ],
   "source": [
    "nba_py.team.TeamPlayers('1610612758').season_totals()['PLAYER_ID']"
   ]
  },
  {
   "cell_type": "code",
   "execution_count": 28,
   "metadata": {},
   "outputs": [
    {
     "ename": "TypeError",
     "evalue": "__init__() got an unexpected keyword argument 'axis'",
     "output_type": "error",
     "traceback": [
      "\u001b[0;31m---------------------------------------------------------------------------\u001b[0m",
      "\u001b[0;31mTypeError\u001b[0m                                 Traceback (most recent call last)",
      "\u001b[0;32m<ipython-input-28-21ea5547d4c4>\u001b[0m in \u001b[0;36m<module>\u001b[0;34m()\u001b[0m\n\u001b[1;32m      5\u001b[0m     \u001b[0;32mreturn\u001b[0m \u001b[0mpd\u001b[0m\u001b[0;34m.\u001b[0m\u001b[0mDataFrame\u001b[0m\u001b[0;34m(\u001b[0m\u001b[0mhome_players\u001b[0m\u001b[0;34m,\u001b[0m \u001b[0maxis\u001b[0m \u001b[0;34m=\u001b[0m \u001b[0;36m1\u001b[0m\u001b[0;34m)\u001b[0m\u001b[0;34m\u001b[0m\u001b[0m\n\u001b[1;32m      6\u001b[0m \u001b[0;34m\u001b[0m\u001b[0m\n\u001b[0;32m----> 7\u001b[0;31m \u001b[0mget_players\u001b[0m\u001b[0;34m(\u001b[0m\u001b[0mteams\u001b[0m\u001b[0;34m)\u001b[0m\u001b[0;34m\u001b[0m\u001b[0m\n\u001b[0m",
      "\u001b[0;32m<ipython-input-28-21ea5547d4c4>\u001b[0m in \u001b[0;36mget_players\u001b[0;34m(teams)\u001b[0m\n\u001b[1;32m      3\u001b[0m     \u001b[0mvisitor_teams\u001b[0m \u001b[0;34m=\u001b[0m \u001b[0mteams\u001b[0m\u001b[0;34m[\u001b[0m\u001b[0;34m'VISITOR_TEAM_ID'\u001b[0m\u001b[0;34m]\u001b[0m\u001b[0;34m\u001b[0m\u001b[0m\n\u001b[1;32m      4\u001b[0m     \u001b[0mhome_players\u001b[0m \u001b[0;34m=\u001b[0m \u001b[0;34m[\u001b[0m\u001b[0mnba_py\u001b[0m\u001b[0;34m.\u001b[0m\u001b[0mteam\u001b[0m\u001b[0;34m.\u001b[0m\u001b[0mTeamPlayers\u001b[0m\u001b[0;34m(\u001b[0m\u001b[0mteam\u001b[0m\u001b[0;34m)\u001b[0m\u001b[0;34m.\u001b[0m\u001b[0mseason_totals\u001b[0m\u001b[0;34m(\u001b[0m\u001b[0;34m)\u001b[0m\u001b[0;34m[\u001b[0m\u001b[0;34m'PLAYER_ID'\u001b[0m\u001b[0;34m]\u001b[0m \u001b[0;32mfor\u001b[0m \u001b[0mteam\u001b[0m \u001b[0;32min\u001b[0m \u001b[0mhome_teams\u001b[0m\u001b[0;34m]\u001b[0m\u001b[0;34m\u001b[0m\u001b[0m\n\u001b[0;32m----> 5\u001b[0;31m     \u001b[0;32mreturn\u001b[0m \u001b[0mpd\u001b[0m\u001b[0;34m.\u001b[0m\u001b[0mDataFrame\u001b[0m\u001b[0;34m(\u001b[0m\u001b[0mhome_players\u001b[0m\u001b[0;34m,\u001b[0m \u001b[0maxis\u001b[0m \u001b[0;34m=\u001b[0m \u001b[0;36m1\u001b[0m\u001b[0;34m)\u001b[0m\u001b[0;34m\u001b[0m\u001b[0m\n\u001b[0m\u001b[1;32m      6\u001b[0m \u001b[0;34m\u001b[0m\u001b[0m\n\u001b[1;32m      7\u001b[0m \u001b[0mget_players\u001b[0m\u001b[0;34m(\u001b[0m\u001b[0mteams\u001b[0m\u001b[0;34m)\u001b[0m\u001b[0;34m\u001b[0m\u001b[0m\n",
      "\u001b[0;31mTypeError\u001b[0m: __init__() got an unexpected keyword argument 'axis'"
     ]
    }
   ],
   "source": [
    "def get_players(teams):\n",
    "    home_teams = teams['HOME_TEAM_ID']\n",
    "    visitor_teams = teams['VISITOR_TEAM_ID']\n",
    "    home_players = [nba_py.team.TeamPlayers(team).season_totals()['PLAYER_ID'] for team in home_teams]\n",
    "    return pd.DataFrame(home_players, index = )\n",
    "\n",
    "get_players(teams)"
   ]
  },
  {
   "cell_type": "code",
   "execution_count": 143,
   "metadata": {},
   "outputs": [
    {
     "ename": "ValueError",
     "evalue": "Lengths must match to compare",
     "output_type": "error",
     "traceback": [
      "\u001b[0;31m---------------------------------------------------------------------------\u001b[0m",
      "\u001b[0;31mValueError\u001b[0m                                Traceback (most recent call last)",
      "\u001b[0;32m<ipython-input-143-ea08e376aea6>\u001b[0m in \u001b[0;36m<module>\u001b[0;34m()\u001b[0m\n\u001b[1;32m     14\u001b[0m                            for p in home_players['PLAYER_ID']]\n\u001b[1;32m     15\u001b[0m home_players['AGAINST'] = [teams[teams['HOME_TEAM_ID'] == t]['VISITOR_TEAM_ID'].values \n\u001b[0;32m---> 16\u001b[0;31m                            for t in home_players['TEAM_ID']]\n\u001b[0m\u001b[1;32m     17\u001b[0m \u001b[0;34m\u001b[0m\u001b[0m\n\u001b[1;32m     18\u001b[0m \u001b[0mhome_players\u001b[0m\u001b[0;34m\u001b[0m\u001b[0m\n",
      "\u001b[0;32m<ipython-input-143-ea08e376aea6>\u001b[0m in \u001b[0;36m<listcomp>\u001b[0;34m(.0)\u001b[0m\n\u001b[1;32m     14\u001b[0m                            for p in home_players['PLAYER_ID']]\n\u001b[1;32m     15\u001b[0m home_players['AGAINST'] = [teams[teams['HOME_TEAM_ID'] == t]['VISITOR_TEAM_ID'].values \n\u001b[0;32m---> 16\u001b[0;31m                            for t in home_players['TEAM_ID']]\n\u001b[0m\u001b[1;32m     17\u001b[0m \u001b[0;34m\u001b[0m\u001b[0m\n\u001b[1;32m     18\u001b[0m \u001b[0mhome_players\u001b[0m\u001b[0;34m\u001b[0m\u001b[0m\n",
      "\u001b[0;32m/Library/Frameworks/Python.framework/Versions/3.6/lib/python3.6/site-packages/pandas/core/ops.py\u001b[0m in \u001b[0;36mwrapper\u001b[0;34m(self, other, axis)\u001b[0m\n\u001b[1;32m    826\u001b[0m             if (not is_scalar(lib.item_from_zerodim(other)) and\n\u001b[1;32m    827\u001b[0m                     len(self) != len(other)):\n\u001b[0;32m--> 828\u001b[0;31m                 \u001b[0;32mraise\u001b[0m \u001b[0mValueError\u001b[0m\u001b[0;34m(\u001b[0m\u001b[0;34m'Lengths must match to compare'\u001b[0m\u001b[0;34m)\u001b[0m\u001b[0;34m\u001b[0m\u001b[0m\n\u001b[0m\u001b[1;32m    829\u001b[0m \u001b[0;34m\u001b[0m\u001b[0m\n\u001b[1;32m    830\u001b[0m             \u001b[0;32mif\u001b[0m \u001b[0misinstance\u001b[0m\u001b[0;34m(\u001b[0m\u001b[0mother\u001b[0m\u001b[0;34m,\u001b[0m \u001b[0mABCPeriodIndex\u001b[0m\u001b[0;34m)\u001b[0m\u001b[0;34m:\u001b[0m\u001b[0;34m\u001b[0m\u001b[0m\n",
      "\u001b[0;31mValueError\u001b[0m: Lengths must match to compare"
     ]
    }
   ],
   "source": [
    "import functools\n",
    "player_list = nba_py.player.PlayerList().info()\n",
    "\n",
    "home_teams = teams['HOME_TEAM_ID']\n",
    "visitor_teams = teams['VISITOR_TEAM_ID']\n",
    "home_players = functools.reduce(pd.Series.append, \n",
    "                                [nba_py.team.TeamPlayers(team).season_totals()['PLAYER_ID'] \n",
    "                                 for team in home_teams])\n",
    "\n",
    "home_players.index = range(len(home_players))\n",
    "home_players = home_players.to_frame()\n",
    "home_players['LOCATION'] = 'HOME'\n",
    "home_players['TEAM_ID'] = [player_list[player_list['PERSON_ID'] == p]['TEAM_ID'].values \n",
    "                           for p in home_players['PLAYER_ID']]\n",
    "home_players['AGAINST'] = [teams[teams['HOME_TEAM_ID'] == t]['VISITOR_TEAM_ID'].values \n",
    "                           for t in home_players['TEAM_ID']]\n",
    "\n",
    "home_players"
   ]
  },
  {
   "cell_type": "code",
   "execution_count": 136,
   "metadata": {},
   "outputs": [
    {
     "data": {
      "text/plain": [
       "425    1610612758\n",
       "Name: TEAM_ID, dtype: int64"
      ]
     },
     "execution_count": 136,
     "metadata": {},
     "output_type": "execute_result"
    }
   ],
   "source": [
    "nba_py.player.PlayerList().info()[nba_py.player.PlayerList().info()['PERSON_ID'] == 202066]['TEAM_ID']"
   ]
  },
  {
   "cell_type": "code",
   "execution_count": 141,
   "metadata": {},
   "outputs": [
    {
     "ename": "TypeError",
     "evalue": "int() argument must be a string, a bytes-like object or a number, not 'list'",
     "output_type": "error",
     "traceback": [
      "\u001b[0;31m---------------------------------------------------------------------------\u001b[0m",
      "\u001b[0;31mTypeError\u001b[0m                                 Traceback (most recent call last)",
      "\u001b[0;32m<ipython-input-141-17bdabc089ac>\u001b[0m in \u001b[0;36m<module>\u001b[0;34m()\u001b[0m\n\u001b[0;32m----> 1\u001b[0;31m \u001b[0mint\u001b[0m\u001b[0;34m(\u001b[0m\u001b[0;34m[\u001b[0m\u001b[0;36m1610612753\u001b[0m\u001b[0;34m]\u001b[0m\u001b[0;34m)\u001b[0m\u001b[0;34m\u001b[0m\u001b[0m\n\u001b[0m",
      "\u001b[0;31mTypeError\u001b[0m: int() argument must be a string, a bytes-like object or a number, not 'list'"
     ]
    }
   ],
   "source": [
    "int([1610612753])"
   ]
  },
  {
   "cell_type": "code",
   "execution_count": null,
   "metadata": {
    "collapsed": true
   },
   "outputs": [],
   "source": []
  }
 ],
 "metadata": {
  "kernelspec": {
   "display_name": "Python 3",
   "language": "python",
   "name": "python3"
  },
  "language_info": {
   "codemirror_mode": {
    "name": "ipython",
    "version": 3
   },
   "file_extension": ".py",
   "mimetype": "text/x-python",
   "name": "python",
   "nbconvert_exporter": "python",
   "pygments_lexer": "ipython3",
   "version": "3.6.1"
  }
 },
 "nbformat": 4,
 "nbformat_minor": 2
}
