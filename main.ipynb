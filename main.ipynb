{
 "cells": [
  {
   "cell_type": "code",
   "execution_count": 1,
   "metadata": {
    "collapsed": true
   },
   "outputs": [],
   "source": [
    "import nba_py\n",
    "import nba_py.game\n",
    "import nba_py.player\n",
    "import nba_py.team\n",
    "\n",
    "import pandas as pd\n",
    "import numpy as np\n",
    "%matplotlib inline\n",
    "\n",
    "import datetime\n",
    "import time\n",
    "import functools"
   ]
  },
  {
   "cell_type": "code",
   "execution_count": 2,
   "metadata": {
    "collapsed": true
   },
   "outputs": [],
   "source": [
    "today = datetime.date.today()\n",
    "tomorrow = today + datetime.timedelta(days = 1)\n",
    "someday = datetime.date(2017, 1, 1)"
   ]
  },
  {
   "cell_type": "code",
   "execution_count": 5,
   "metadata": {},
   "outputs": [
    {
     "data": {
      "text/plain": [
       "0    0021600510\n",
       "1    0021600509\n",
       "2    0021600508\n",
       "3    0021600511\n",
       "4    0021600512\n",
       "Name: GAME_ID, dtype: object"
      ]
     },
     "execution_count": 5,
     "metadata": {},
     "output_type": "execute_result"
    }
   ],
   "source": [
    "def get_games(date):\n",
    "    '''\n",
    "    return a pandas.Series of all the games available on this day.\n",
    "    '''\n",
    "    return nba_py.Scoreboard(month = date.month, \n",
    "                             day = date.day, \n",
    "                             year = date.year, \n",
    "                             league_id = '00', \n",
    "                             offset = 0).available()['GAME_ID']\n",
    "\n",
    "games = get_games(someday)\n",
    "games"
   ]
  },
  {
   "cell_type": "code",
   "execution_count": 6,
   "metadata": {},
   "outputs": [
    {
     "data": {
      "text/html": [
       "<div>\n",
       "<style>\n",
       "    .dataframe thead tr:only-child th {\n",
       "        text-align: right;\n",
       "    }\n",
       "\n",
       "    .dataframe thead th {\n",
       "        text-align: left;\n",
       "    }\n",
       "\n",
       "    .dataframe tbody tr th {\n",
       "        vertical-align: top;\n",
       "    }\n",
       "</style>\n",
       "<table border=\"1\" class=\"dataframe\">\n",
       "  <thead>\n",
       "    <tr style=\"text-align: right;\">\n",
       "      <th></th>\n",
       "      <th>HOME_TEAM_ID</th>\n",
       "      <th>VISITOR_TEAM_ID</th>\n",
       "    </tr>\n",
       "  </thead>\n",
       "  <tbody>\n",
       "    <tr>\n",
       "      <th>0021600510</th>\n",
       "      <td>1610612754</td>\n",
       "      <td>1610612753</td>\n",
       "    </tr>\n",
       "    <tr>\n",
       "      <th>0021600509</th>\n",
       "      <td>1610612748</td>\n",
       "      <td>1610612765</td>\n",
       "    </tr>\n",
       "    <tr>\n",
       "      <th>0021600508</th>\n",
       "      <td>1610612737</td>\n",
       "      <td>1610612759</td>\n",
       "    </tr>\n",
       "    <tr>\n",
       "      <th>0021600511</th>\n",
       "      <td>1610612750</td>\n",
       "      <td>1610612757</td>\n",
       "    </tr>\n",
       "    <tr>\n",
       "      <th>0021600512</th>\n",
       "      <td>1610612747</td>\n",
       "      <td>1610612761</td>\n",
       "    </tr>\n",
       "  </tbody>\n",
       "</table>\n",
       "</div>"
      ],
      "text/plain": [
       "            HOME_TEAM_ID  VISITOR_TEAM_ID\n",
       "0021600510    1610612754       1610612753\n",
       "0021600509    1610612748       1610612765\n",
       "0021600508    1610612737       1610612759\n",
       "0021600511    1610612750       1610612757\n",
       "0021600512    1610612747       1610612761"
      ]
     },
     "execution_count": 6,
     "metadata": {},
     "output_type": "execute_result"
    }
   ],
   "source": [
    "def get_teams(games):\n",
    "    '''\n",
    "    return a pandas.DataFrame including every games' home team id and away team id.\n",
    "    '''\n",
    "    teams = [nba_py.game.BoxscoreSummary(g).game_summary().loc[0, ['HOME_TEAM_ID', 'VISITOR_TEAM_ID']] \n",
    "             for g in games]\n",
    "    return pd.DataFrame(teams, index = [g for g in games])\n",
    "\n",
    "teams = get_teams(games)\n",
    "teams"
   ]
  },
  {
   "cell_type": "code",
   "execution_count": null,
   "metadata": {
    "collapsed": true
   },
   "outputs": [],
   "source": [
    "def get_players(teams):\n",
    "    all_players = "
   ]
  }
 ],
 "metadata": {
  "kernelspec": {
   "display_name": "Python 3",
   "language": "python",
   "name": "python3"
  },
  "language_info": {
   "codemirror_mode": {
    "name": "ipython",
    "version": 3
   },
   "file_extension": ".py",
   "mimetype": "text/x-python",
   "name": "python",
   "nbconvert_exporter": "python",
   "pygments_lexer": "ipython3",
   "version": "3.6.1"
  }
 },
 "nbformat": 4,
 "nbformat_minor": 2
}
